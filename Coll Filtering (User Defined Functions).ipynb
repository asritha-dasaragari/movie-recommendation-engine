{
 "cells": [
  {
   "cell_type": "code",
   "execution_count": 3,
   "metadata": {},
   "outputs": [],
   "source": [
    "import os\n",
    "import numpy as np\n",
    "import pandas as pd\n",
    "movie = pd.read_csv(\"~/Downloads/ml-latest-small/movies.csv\")\n",
    "rating = pd.read_csv(\"~/Downloads/ml-latest-small/ratings.csv\")"
   ]
  },
  {
   "cell_type": "code",
   "execution_count": 8,
   "metadata": {},
   "outputs": [],
   "source": [
    "def user_pred(movieid):\n",
    "    n_users = rating.userId.unique().shape[0]    # no of users\n",
    "    n_items = rating.movieId.unique().shape[0]\n",
    "    data_matrix = np.zeros((n_users, n_items))\n",
    "    for line in rating.itertuples():\n",
    "        try:\n",
    "            data_matrix[line[1]-1, line[2]-1] = line[3]\n",
    "        except:\n",
    "            pass\n",
    "    from sklearn.metrics.pairwise import pairwise_distances \n",
    "    user_similarity = pairwise_distances(data_matrix, metric='cosine')\n",
    "    #item_similarity = pairwise_distances(data_matrix.T, metric='cosine')\n",
    "    def predict(ratings, similarity, type='user'):\n",
    "        if type == 'user':\n",
    "            mean_user_rating = ratings.mean(axis=1)\n",
    "            ratings_diff = (ratings - mean_user_rating[:, np.newaxis])\n",
    "            pred = mean_user_rating[:, np.newaxis] + similarity.dot(ratings_diff) / np.array([np.abs(similarity).sum(axis=1)]).T\n",
    "        elif type == 'item':\n",
    "            pred = ratings.dot(similarity) / np.array([np.abs(similarity).sum(axis=1)])\n",
    "        return pred\n",
    "    user_prediction = predict(data_matrix, user_similarity, type='user')\n",
    "    val = user_prediction[movieid].max()\n",
    "    np.where(np.array(user_prediction)==val)\n",
    "    au = int(np.where(np.array(user_prediction)==val)[1][0])\n",
    "    return list(movie['title'][movie['movieId']== au])\n"
   ]
  },
  {
   "cell_type": "code",
   "execution_count": 9,
   "metadata": {},
   "outputs": [
    {
     "data": {
      "text/plain": [
       "['Santa Clause, The (1994)']"
      ]
     },
     "execution_count": 9,
     "metadata": {},
     "output_type": "execute_result"
    }
   ],
   "source": [
    "user_pred(515)"
   ]
  },
  {
   "cell_type": "code",
   "execution_count": 10,
   "metadata": {},
   "outputs": [],
   "source": [
    "def item_pred(movieid):\n",
    "    n_users = rating.userId.unique().shape[0]    # no of users\n",
    "    n_items = rating.movieId.unique().shape[0]\n",
    "    data_matrix = np.zeros((n_users, n_items))\n",
    "    for line in rating.itertuples():\n",
    "        try:\n",
    "            data_matrix[line[1]-1, line[2]-1] = line[3]\n",
    "        except:\n",
    "            pass\n",
    "    from sklearn.metrics.pairwise import pairwise_distances \n",
    "    item_similarity = pairwise_distances(data_matrix.T, metric='cosine')\n",
    "    def predict(ratings, similarity, type='user'):\n",
    "        if type == 'user':\n",
    "            mean_user_rating = ratings.mean(axis=1)\n",
    "        #We use np.newaxis so that mean_user_rating has same format as ratings\n",
    "            ratings_diff = (ratings - mean_user_rating[:, np.newaxis])\n",
    "            pred = mean_user_rating[:, np.newaxis] + similarity.dot(ratings_diff) / np.array([np.abs(similarity).sum(axis=1)]).T\n",
    "        elif type == 'item':\n",
    "            pred = ratings.dot(similarity) / np.array([np.abs(similarity).sum(axis=1)])\n",
    "        return pred\n",
    "    item_prediction = predict(data_matrix, item_similarity, type='item')\n",
    "    val1 = item_prediction[movieid].max()\n",
    "    item_prediction[item_prediction == val1]\n",
    "    ai = int((np.where((np.array(item_prediction == val1))))[1][0])\n",
    "    return list(movie['title'][movie['movieId']== ai])"
   ]
  },
  {
   "cell_type": "code",
   "execution_count": 11,
   "metadata": {},
   "outputs": [
    {
     "data": {
      "text/plain": [
       "['Prophecy, The (1995)']"
      ]
     },
     "execution_count": 11,
     "metadata": {},
     "output_type": "execute_result"
    }
   ],
   "source": [
    "item_pred(600)"
   ]
  },
  {
   "cell_type": "code",
   "execution_count": null,
   "metadata": {},
   "outputs": [],
   "source": []
  }
 ],
 "metadata": {
  "kernelspec": {
   "display_name": "Python 3",
   "language": "python",
   "name": "python3"
  },
  "language_info": {
   "codemirror_mode": {
    "name": "ipython",
    "version": 3
   },
   "file_extension": ".py",
   "mimetype": "text/x-python",
   "name": "python",
   "nbconvert_exporter": "python",
   "pygments_lexer": "ipython3",
   "version": "3.7.3"
  }
 },
 "nbformat": 4,
 "nbformat_minor": 2
}
